{
  "cells": [
    {
      "cell_type": "markdown",
      "metadata": {
        "id": "view-in-github",
        "colab_type": "text"
      },
      "source": [
        "<a href=\"https://colab.research.google.com/github/Szyfman/MVP_PUC_ML_1/blob/main/MVP_PUC_Daniel_Szyfman.ipynb\" target=\"_parent\"><img src=\"https://colab.research.google.com/assets/colab-badge.svg\" alt=\"Open In Colab\"/></a>"
      ]
    },
    {
      "cell_type": "markdown",
      "metadata": {
        "id": "kjPJ5gUZqy_e"
      },
      "source": [
        "#***Introdução***"
      ]
    },
    {
      "cell_type": "markdown",
      "metadata": {
        "id": "BorpdqGVzTS1"
      },
      "source": [
        "### **Definição do Problema:**\n",
        "\n",
        "O naufrágio do Titanic é um dos desastres marítimos mais famosos da história, ocorrendo em 1912. Apesar da sua grandiosidade e da promessa de ser \"inafundável\", o Titanic enfrentou uma tragédia que resultou na morte de mais de 1.500 pessoas, deixando muitas perguntas sobre as circunstâncias que influenciaram a sobrevivência de seus passageiros. Identificar os fatores que contribuíram para a sobrevivência de algumas pessoas e não de outras pode fornecer insights valiosos sobre a interação de características demográficas, sociais e econômicas em situações de risco extremo.\n",
        "\n",
        "\n",
        "**- Objetivo:**\n",
        "\n",
        "Este projeto tem como objetivo desenvolver um modelo preditivo que, com base em dados dos passageiros do Titanic (como idade, sexo, classe social, etc.), seja capaz de prever se um indivíduo teria sobrevivido ou não à tragédia. Utilizando técnicas de machine learning, o modelo será treinado para reconhecer padrões nos dados e realizar previsões com base em características fornecidas.\n",
        "\n",
        "**- Descrição do Problema:**\n",
        "\n",
        "A sobrevivência no Titanic foi determinada por uma combinação de fatores, incluindo aspectos pessoais (como idade e sexo), posição social (classe de passagem) e circunstâncias do evento (acesso aos botes salva-vidas, proximidade às áreas de evacuação, etc.). A tarefa central deste projeto é encontrar um modelo que capture as relações entre essas variáveis e forneça previsões precisas sobre a sobrevivência de cada indivíduo.\n",
        "\n",
        "**- Tipo de Problema:**\n",
        "\n",
        "Este é um problema de classificação supervisionada. O objetivo é ensinar o modelo a associar características dos passageiros (atributos) a uma categoria binária a coluna Survived onde 1 indica que \"Sobreviveu\" e 0 que \"Não Sobreviveu\". O modelo será treinado usando um dataset histórico do Titanic, onde a sobrevivência de cada indivíduo é conhecida, caracterizando o caráter supervisionado do problema.\n",
        "\n",
        "**- Premissas e Hipóteses:**\n",
        "\n",
        "* **Premissa:**\\\n",
        "As características pessoais e sociais dos passageiros influenciaram diretamente suas chances de sobrevivência durante o desastre;\\\n",
        "O sexo e a idade, foram grandes fatores devido a frase \"mulheres e crianças primeiro\".\n",
        "\n",
        "* **Hipótese:** Um modelo de machine learning pode identificar padrões nos dados históricos do Titanic e usá-los para prever com precisão a probabilidade de sobrevivência de novos indivíduos com base em características similares.\n",
        "\n",
        "**- Restrições e Condições:**\n",
        "\n",
        "* **Restrição:**\n",
        "Os dados utilizados no projeto são limitados às informações contidas no dataset oficial do Titanic disponibilizado pelo Kaggle.\n",
        "\n",
        "* **Condição:** O modelo será aplicado apenas a indivíduos cujas características estejam adequadamente representadas no dataset de treinamento.\n",
        "\n",
        "**- Descrição do Dataset:**\n",
        "O dataset utilizado no projeto contém informações detalhadas de 891 passageiros do Titanic, incluindo dados como:\n",
        "\n",
        "* **Características pessoais:** Idade, sexo e número de familiares a bordo.\n",
        "\n",
        "* **Características socioeconômicas:** Classe de viagem (1ª, 2ª ou 3ª) e preço pago pela passagem.\n",
        "\n",
        "* **Variáveis de contexto:** Número da cabine e local de embarque.\\\n",
        "O atributo alvo é \"Survived,\" que indica se o passageiro sobreviveu (1) ou não (0). O objetivo é treinar o modelo para identificar relações entre as variáveis explicativas e a sobrevivência, usando boas práticas de análise de dados e machine learning."
      ]
    },
    {
      "cell_type": "markdown",
      "metadata": {
        "id": "ISGoY-KoqnIT"
      },
      "source": [
        "#***Pré-Processamento***"
      ]
    },
    {
      "cell_type": "markdown",
      "metadata": {
        "id": "EmrxoLB0zD1X"
      },
      "source": [
        "Começando o projeto MVP fazendo a importação das bibliotecas que serão utilizadas."
      ]
    },
    {
      "cell_type": "code",
      "execution_count": 43,
      "metadata": {
        "id": "UQBnpxxTy-zI"
      },
      "outputs": [],
      "source": [
        "#IMPORTS\n",
        "\n",
        "import pandas as pd\n",
        "import os\n",
        "import gdown\n",
        "from sklearn.preprocessing import MinMaxScaler\n",
        "import matplotlib.pyplot as plt\n",
        "import numpy as np\n",
        "from sklearn.model_selection import train_test_split\n",
        "from sklearn.ensemble import RandomForestClassifier\n",
        "from sklearn.metrics import accuracy_score, classification_report\n",
        "from sklearn.linear_model import LogisticRegression\n",
        "from sklearn.ensemble import GradientBoostingClassifier\n",
        "from sklearn.neighbors import KNeighborsClassifier\n",
        "from sklearn.svm import SVC\n",
        "from sklearn.model_selection import cross_val_score"
      ]
    },
    {
      "cell_type": "markdown",
      "metadata": {
        "id": "bghpNkpR338t"
      },
      "source": [
        "Verificando se o dataset foi carregado corretamente"
      ]
    },
    {
      "cell_type": "code",
      "source": [
        "#Criando uma pasta para o dataset\n",
        "os.makedirs(\"dataset\", exist_ok=True)\n",
        "\n",
        "#ID do arquivo do Google Drive\n",
        "file_id = \"19VwekJyvY0-TgdldyigrkMFSYFpti3Ct\"\n",
        "output_path = \"dataset/train.csv\"\n",
        "\n",
        "#Baixa o arquivo do Google Drive\n",
        "gdown.download(f\"https://drive.google.com/uc?id={file_id}\", output_path, quiet=False)\n",
        "\n",
        "print(f\"Dataset baixado e salvo em: {output_path}\")"
      ],
      "metadata": {
        "colab": {
          "base_uri": "https://localhost:8080/"
        },
        "id": "7RMLKXiZy2oS",
        "outputId": "ecf03a11-7932-42c4-81c2-9ce9cc120e9d"
      },
      "execution_count": 44,
      "outputs": [
        {
          "output_type": "stream",
          "name": "stderr",
          "text": [
            "Downloading...\n",
            "From: https://drive.google.com/uc?id=19VwekJyvY0-TgdldyigrkMFSYFpti3Ct\n",
            "To: /content/dataset/train.csv\n",
            "100%|██████████| 61.2k/61.2k [00:00<00:00, 62.3MB/s]"
          ]
        },
        {
          "output_type": "stream",
          "name": "stdout",
          "text": [
            "Dataset baixado e salvo em: dataset/train.csv\n"
          ]
        },
        {
          "output_type": "stream",
          "name": "stderr",
          "text": [
            "\n"
          ]
        }
      ]
    },
    {
      "cell_type": "code",
      "execution_count": 45,
      "metadata": {
        "colab": {
          "base_uri": "https://localhost:8080/"
        },
        "id": "iGR8OJVyr3n_",
        "outputId": "c94d200f-47a9-4ef3-fa0b-48f39075ae99"
      },
      "outputs": [
        {
          "output_type": "stream",
          "name": "stdout",
          "text": [
            "   PassengerId  Survived  Pclass  \\\n",
            "0            1         0       3   \n",
            "1            2         1       1   \n",
            "2            3         1       3   \n",
            "3            4         1       1   \n",
            "4            5         0       3   \n",
            "\n",
            "                                                Name     Sex   Age  SibSp  \\\n",
            "0                            Braund, Mr. Owen Harris    male  22.0      1   \n",
            "1  Cumings, Mrs. John Bradley (Florence Briggs Th...  female  38.0      1   \n",
            "2                             Heikkinen, Miss. Laina  female  26.0      0   \n",
            "3       Futrelle, Mrs. Jacques Heath (Lily May Peel)  female  35.0      1   \n",
            "4                           Allen, Mr. William Henry    male  35.0      0   \n",
            "\n",
            "   Parch            Ticket     Fare Cabin Embarked  \n",
            "0      0         A/5 21171   7.2500   NaN        S  \n",
            "1      0          PC 17599  71.2833   C85        C  \n",
            "2      0  STON/O2. 3101282   7.9250   NaN        S  \n",
            "3      0            113803  53.1000  C123        S  \n",
            "4      0            373450   8.0500   NaN        S  \n"
          ]
        }
      ],
      "source": [
        "df = pd.read_csv(output_path)\n",
        "\n",
        "print(df.head())"
      ]
    },
    {
      "cell_type": "code",
      "execution_count": null,
      "metadata": {
        "colab": {
          "base_uri": "https://localhost:8080/"
        },
        "id": "H7ev-P7MyXaT",
        "outputId": "8d82a5c8-9bf8-4d4d-86de-cbfea54f5b4c"
      },
      "outputs": [
        {
          "output_type": "stream",
          "name": "stdout",
          "text": [
            "<class 'pandas.core.frame.DataFrame'>\n",
            "RangeIndex: 891 entries, 0 to 890\n",
            "Data columns (total 12 columns):\n",
            " #   Column       Non-Null Count  Dtype  \n",
            "---  ------       --------------  -----  \n",
            " 0   PassengerId  891 non-null    int64  \n",
            " 1   Survived     891 non-null    int64  \n",
            " 2   Pclass       891 non-null    int64  \n",
            " 3   Name         891 non-null    object \n",
            " 4   Sex          891 non-null    object \n",
            " 5   Age          714 non-null    float64\n",
            " 6   SibSp        891 non-null    int64  \n",
            " 7   Parch        891 non-null    int64  \n",
            " 8   Ticket       891 non-null    object \n",
            " 9   Fare         891 non-null    float64\n",
            " 10  Cabin        204 non-null    object \n",
            " 11  Embarked     889 non-null    object \n",
            "dtypes: float64(2), int64(5), object(5)\n",
            "memory usage: 83.7+ KB\n",
            "None\n",
            "       PassengerId    Survived      Pclass         Age       SibSp  \\\n",
            "count   891.000000  891.000000  891.000000  714.000000  891.000000   \n",
            "mean    446.000000    0.383838    2.308642   29.699118    0.523008   \n",
            "std     257.353842    0.486592    0.836071   14.526497    1.102743   \n",
            "min       1.000000    0.000000    1.000000    0.420000    0.000000   \n",
            "25%     223.500000    0.000000    2.000000   20.125000    0.000000   \n",
            "50%     446.000000    0.000000    3.000000   28.000000    0.000000   \n",
            "75%     668.500000    1.000000    3.000000   38.000000    1.000000   \n",
            "max     891.000000    1.000000    3.000000   80.000000    8.000000   \n",
            "\n",
            "            Parch        Fare  \n",
            "count  891.000000  891.000000  \n",
            "mean     0.381594   32.204208  \n",
            "std      0.806057   49.693429  \n",
            "min      0.000000    0.000000  \n",
            "25%      0.000000    7.910400  \n",
            "50%      0.000000   14.454200  \n",
            "75%      0.000000   31.000000  \n",
            "max      6.000000  512.329200  \n"
          ]
        }
      ],
      "source": [
        "#Resumo do dataset\n",
        "print(df.info())\n",
        "\n",
        "#Estatísticas descritivas\n",
        "print(df.describe())\n"
      ]
    },
    {
      "cell_type": "code",
      "execution_count": null,
      "metadata": {
        "colab": {
          "base_uri": "https://localhost:8080/"
        },
        "id": "7d9kOT36yueb",
        "outputId": "acc12c7c-37ca-4d36-e71c-a5a2dbb1b388"
      },
      "outputs": [
        {
          "output_type": "stream",
          "name": "stdout",
          "text": [
            "PassengerId      0\n",
            "Survived         0\n",
            "Pclass           0\n",
            "Name             0\n",
            "Sex              0\n",
            "Age            177\n",
            "SibSp            0\n",
            "Parch            0\n",
            "Ticket           0\n",
            "Fare             0\n",
            "Cabin          687\n",
            "Embarked         2\n",
            "dtype: int64\n"
          ]
        }
      ],
      "source": [
        "#Verifica quantos valores Nulos temos por atributo\n",
        "print(df.isnull().sum())\n"
      ]
    },
    {
      "cell_type": "markdown",
      "metadata": {
        "id": "Zgr-JphC90DF"
      },
      "source": [
        "Após identificar os valores ausentes, observamos:\n",
        "\n",
        "Age: 177 valores ausentes.\n",
        "Cabin: 687 valores ausentes (alta proporção, mais de 75% do dataset).\n",
        "Embarked: 2 valores ausentes.\\\n",
        "Agora, vamos tratar cada caso detalhadamente:\n",
        "\n",
        "**1. Coluna Age:**\\\n",
        "Possui muitos valores ausentes.\\\n",
        "**Decisão**: Substituir valores ausentes pela mediana da idade, pois é menos sensível a outliers do que a média.\n",
        "\n",
        "**2. Coluna Cabin:**\\\n",
        "Possui mais valores nulos do que informações relevantes, o que reduz sua utilidade.\\\n",
        "**Decisão:** Excluir essa coluna, pois preencher com suposições não agregaria muito valor ao modelo.\n",
        "\n",
        "**3. Coluna Embarked:**\\\n",
        "Apenas dois valores ausentes.\\\n",
        "**Solução:** Substituir pela moda (porto mais comum)."
      ]
    },
    {
      "cell_type": "code",
      "execution_count": 46,
      "metadata": {
        "id": "yefV5hJb4OW8"
      },
      "outputs": [],
      "source": [
        "#Substitui todos os valores NaN (ausentes) na coluna Age pela mediana calculada de todas as idades presentes.\n",
        "df['Age'] = df['Age'].fillna(df['Age'].median())\n",
        "\n",
        "#Como Cabin possui muitos valores ausentes, optamos por removê-la completamente.\n",
        "df.drop(columns=['Cabin'], inplace=True)\n",
        "\n",
        "#Preenchemos os valores ausentes de Embarked com a moda (valor mais frequente)\n",
        "df['Embarked'] = df['Embarked'].fillna(df['Embarked'].mode()[0])\n"
      ]
    },
    {
      "cell_type": "code",
      "execution_count": 47,
      "metadata": {
        "colab": {
          "base_uri": "https://localhost:8080/"
        },
        "collapsed": true,
        "id": "DHvpjRK1ABOK",
        "outputId": "950f6fea-12ac-4021-b0f3-6f958822aadd"
      },
      "outputs": [
        {
          "output_type": "stream",
          "name": "stdout",
          "text": [
            "PassengerId    0\n",
            "Survived       0\n",
            "Pclass         0\n",
            "Name           0\n",
            "Sex            0\n",
            "Age            0\n",
            "SibSp          0\n",
            "Parch          0\n",
            "Ticket         0\n",
            "Fare           0\n",
            "Embarked       0\n",
            "dtype: int64\n"
          ]
        }
      ],
      "source": [
        "#Verifica se a correção dos valores Nulos foi bem sucedida\n",
        "print(df.isnull().sum())"
      ]
    },
    {
      "cell_type": "markdown",
      "metadata": {
        "id": "fkutBO4HDSX1"
      },
      "source": [
        "Com os valores nulos tratados, vamos fazer a conversão de variáveis categóricas.\n",
        "\n",
        "Sexo é uma variável categórica binária (masculino/feminino). Essa informação é crucial para o modelo, já que acreditamos que o gênero influenciou a probabilidade de sobrevivência.\n",
        "\n",
        "O porto de embarque (C = Cherbourg, Q = Queenstown, S = Southampton) pode ser relevante, já que passageiros de diferentes portos podem ter tido diferentes condições de viagem.\\\n",
        "Usaremos One-Hot Encoding, criando uma coluna para cada valor (C, Q, S). Para evitar criar uma hierarquia falsa."
      ]
    },
    {
      "cell_type": "code",
      "execution_count": 48,
      "metadata": {
        "id": "aQ-B9zeYD8Of"
      },
      "outputs": [],
      "source": [
        "#Convertendo Sexo em 0 para masculino e 1 para feminino\n",
        "df['Sex'] = df['Sex'].map({'male': 0, 'female': 1})\n",
        "\n",
        "#Criando uma coluna para cada porto\n",
        "embarked_dummies = pd.get_dummies(df['Embarked'], prefix='Embarked')\n",
        "df = pd.concat([df, embarked_dummies], axis=1)\n",
        "df.drop('Embarked', axis=1, inplace=True)\n"
      ]
    },
    {
      "cell_type": "markdown",
      "metadata": {
        "id": "0oJKmC_9GYYN"
      },
      "source": [
        "Convertidas as variáveis categóricas, vamos realizar o feature engineering:\n",
        "\n",
        "* Criar a variável FamilySize:\\\n",
        "O tamanho da família pode influenciar a probabilidade de sobrevivência. Pessoas com famílias maiores podem ter enfrentado dificuldades em evacuar, enquanto pessoas sozinhas podem ter tido menos dependentes para ajudar.Para isso vamos somar as colunas SibSp (irmãos/cônjuges a bordo) e Parch (pais/filhos a bordo), adicionando 1 para incluir o próprio passageiro.\n",
        "\n",
        "* Criar variável IsAlone:\\\n",
        " Embora FamilySize == 1 claramente indique que o passageiro estava sozinho, criar uma variável explícita como IsAlone torna o dataset mais intuitivo e fácil de interpretar.\n",
        "\n",
        "* Extrair o título dos nomes (Title):\\\n",
        " Os nomes dos passageiros contêm títulos (como Mme., Mr., Miss) que indicam status social, gênero ou até idade. Isso pode estar correlacionado à probabilidade de sobrevivência.\\\n",
        "Vamos extrair o título de cada nome usando expressões regulares, criando duas categorias, 1 para títulos comuns, que aparecem mais de 10 vezes e 0 para os que aparecem menos. Pois a raridade do título pode indicar um status mais elevado.\n"
      ]
    },
    {
      "cell_type": "code",
      "execution_count": 49,
      "metadata": {
        "id": "uPPlDVMWGumj"
      },
      "outputs": [],
      "source": [
        "#Criando Family Size\n",
        "df['FamilySize'] = df['SibSp'] + df['Parch'] + 1\n",
        "\n",
        "#Criando IsAlone\n",
        "df['IsAlone'] = (df['FamilySize'] == 1).astype(int)\n",
        "\n",
        "#Extrair Título dos nomes\n",
        "df['Title'] = df['Name'].str.extract(' ([A-Za-z]+)\\.', expand=False)\n",
        "\n",
        "# Extrair os títulos dos nomes\n",
        "df['Title'] = df['Name'].str.extract(' ([A-Za-z]+)\\.', expand=False)\n",
        "\n",
        "# Criar a variável binária: 1 para comuns, 0 para raros\n",
        "title_counts = df['Title'].value_counts()\n",
        "df['Title'] = df['Title'].apply(lambda x: 1 if title_counts[x] > 10 else 0)\n"
      ]
    },
    {
      "cell_type": "markdown",
      "metadata": {
        "id": "20XjY74PMG52"
      },
      "source": [
        "Testando se as novas colunas foram cosntruídas corretamente."
      ]
    },
    {
      "cell_type": "code",
      "execution_count": 50,
      "metadata": {
        "colab": {
          "base_uri": "https://localhost:8080/",
          "height": 206
        },
        "collapsed": true,
        "id": "Zya7p9LUIHqY",
        "outputId": "384c2cbc-ed0b-4628-c806-7887ce112341"
      },
      "outputs": [
        {
          "output_type": "execute_result",
          "data": {
            "text/plain": [
              "   SibSp  Parch  FamilySize  IsAlone  Title\n",
              "0      1      0           2        0      1\n",
              "1      1      0           2        0      1\n",
              "2      0      0           1        1      1\n",
              "3      1      0           2        0      1\n",
              "4      0      0           1        1      1"
            ],
            "text/html": [
              "\n",
              "  <div id=\"df-c13abbc3-6a25-40f2-9a20-e787d0cb60e0\" class=\"colab-df-container\">\n",
              "    <div>\n",
              "<style scoped>\n",
              "    .dataframe tbody tr th:only-of-type {\n",
              "        vertical-align: middle;\n",
              "    }\n",
              "\n",
              "    .dataframe tbody tr th {\n",
              "        vertical-align: top;\n",
              "    }\n",
              "\n",
              "    .dataframe thead th {\n",
              "        text-align: right;\n",
              "    }\n",
              "</style>\n",
              "<table border=\"1\" class=\"dataframe\">\n",
              "  <thead>\n",
              "    <tr style=\"text-align: right;\">\n",
              "      <th></th>\n",
              "      <th>SibSp</th>\n",
              "      <th>Parch</th>\n",
              "      <th>FamilySize</th>\n",
              "      <th>IsAlone</th>\n",
              "      <th>Title</th>\n",
              "    </tr>\n",
              "  </thead>\n",
              "  <tbody>\n",
              "    <tr>\n",
              "      <th>0</th>\n",
              "      <td>1</td>\n",
              "      <td>0</td>\n",
              "      <td>2</td>\n",
              "      <td>0</td>\n",
              "      <td>1</td>\n",
              "    </tr>\n",
              "    <tr>\n",
              "      <th>1</th>\n",
              "      <td>1</td>\n",
              "      <td>0</td>\n",
              "      <td>2</td>\n",
              "      <td>0</td>\n",
              "      <td>1</td>\n",
              "    </tr>\n",
              "    <tr>\n",
              "      <th>2</th>\n",
              "      <td>0</td>\n",
              "      <td>0</td>\n",
              "      <td>1</td>\n",
              "      <td>1</td>\n",
              "      <td>1</td>\n",
              "    </tr>\n",
              "    <tr>\n",
              "      <th>3</th>\n",
              "      <td>1</td>\n",
              "      <td>0</td>\n",
              "      <td>2</td>\n",
              "      <td>0</td>\n",
              "      <td>1</td>\n",
              "    </tr>\n",
              "    <tr>\n",
              "      <th>4</th>\n",
              "      <td>0</td>\n",
              "      <td>0</td>\n",
              "      <td>1</td>\n",
              "      <td>1</td>\n",
              "      <td>1</td>\n",
              "    </tr>\n",
              "  </tbody>\n",
              "</table>\n",
              "</div>\n",
              "    <div class=\"colab-df-buttons\">\n",
              "\n",
              "  <div class=\"colab-df-container\">\n",
              "    <button class=\"colab-df-convert\" onclick=\"convertToInteractive('df-c13abbc3-6a25-40f2-9a20-e787d0cb60e0')\"\n",
              "            title=\"Convert this dataframe to an interactive table.\"\n",
              "            style=\"display:none;\">\n",
              "\n",
              "  <svg xmlns=\"http://www.w3.org/2000/svg\" height=\"24px\" viewBox=\"0 -960 960 960\">\n",
              "    <path d=\"M120-120v-720h720v720H120Zm60-500h600v-160H180v160Zm220 220h160v-160H400v160Zm0 220h160v-160H400v160ZM180-400h160v-160H180v160Zm440 0h160v-160H620v160ZM180-180h160v-160H180v160Zm440 0h160v-160H620v160Z\"/>\n",
              "  </svg>\n",
              "    </button>\n",
              "\n",
              "  <style>\n",
              "    .colab-df-container {\n",
              "      display:flex;\n",
              "      gap: 12px;\n",
              "    }\n",
              "\n",
              "    .colab-df-convert {\n",
              "      background-color: #E8F0FE;\n",
              "      border: none;\n",
              "      border-radius: 50%;\n",
              "      cursor: pointer;\n",
              "      display: none;\n",
              "      fill: #1967D2;\n",
              "      height: 32px;\n",
              "      padding: 0 0 0 0;\n",
              "      width: 32px;\n",
              "    }\n",
              "\n",
              "    .colab-df-convert:hover {\n",
              "      background-color: #E2EBFA;\n",
              "      box-shadow: 0px 1px 2px rgba(60, 64, 67, 0.3), 0px 1px 3px 1px rgba(60, 64, 67, 0.15);\n",
              "      fill: #174EA6;\n",
              "    }\n",
              "\n",
              "    .colab-df-buttons div {\n",
              "      margin-bottom: 4px;\n",
              "    }\n",
              "\n",
              "    [theme=dark] .colab-df-convert {\n",
              "      background-color: #3B4455;\n",
              "      fill: #D2E3FC;\n",
              "    }\n",
              "\n",
              "    [theme=dark] .colab-df-convert:hover {\n",
              "      background-color: #434B5C;\n",
              "      box-shadow: 0px 1px 3px 1px rgba(0, 0, 0, 0.15);\n",
              "      filter: drop-shadow(0px 1px 2px rgba(0, 0, 0, 0.3));\n",
              "      fill: #FFFFFF;\n",
              "    }\n",
              "  </style>\n",
              "\n",
              "    <script>\n",
              "      const buttonEl =\n",
              "        document.querySelector('#df-c13abbc3-6a25-40f2-9a20-e787d0cb60e0 button.colab-df-convert');\n",
              "      buttonEl.style.display =\n",
              "        google.colab.kernel.accessAllowed ? 'block' : 'none';\n",
              "\n",
              "      async function convertToInteractive(key) {\n",
              "        const element = document.querySelector('#df-c13abbc3-6a25-40f2-9a20-e787d0cb60e0');\n",
              "        const dataTable =\n",
              "          await google.colab.kernel.invokeFunction('convertToInteractive',\n",
              "                                                    [key], {});\n",
              "        if (!dataTable) return;\n",
              "\n",
              "        const docLinkHtml = 'Like what you see? Visit the ' +\n",
              "          '<a target=\"_blank\" href=https://colab.research.google.com/notebooks/data_table.ipynb>data table notebook</a>'\n",
              "          + ' to learn more about interactive tables.';\n",
              "        element.innerHTML = '';\n",
              "        dataTable['output_type'] = 'display_data';\n",
              "        await google.colab.output.renderOutput(dataTable, element);\n",
              "        const docLink = document.createElement('div');\n",
              "        docLink.innerHTML = docLinkHtml;\n",
              "        element.appendChild(docLink);\n",
              "      }\n",
              "    </script>\n",
              "  </div>\n",
              "\n",
              "\n",
              "<div id=\"df-44940403-7f89-487d-86bc-b2a7c6b5cc02\">\n",
              "  <button class=\"colab-df-quickchart\" onclick=\"quickchart('df-44940403-7f89-487d-86bc-b2a7c6b5cc02')\"\n",
              "            title=\"Suggest charts\"\n",
              "            style=\"display:none;\">\n",
              "\n",
              "<svg xmlns=\"http://www.w3.org/2000/svg\" height=\"24px\"viewBox=\"0 0 24 24\"\n",
              "     width=\"24px\">\n",
              "    <g>\n",
              "        <path d=\"M19 3H5c-1.1 0-2 .9-2 2v14c0 1.1.9 2 2 2h14c1.1 0 2-.9 2-2V5c0-1.1-.9-2-2-2zM9 17H7v-7h2v7zm4 0h-2V7h2v10zm4 0h-2v-4h2v4z\"/>\n",
              "    </g>\n",
              "</svg>\n",
              "  </button>\n",
              "\n",
              "<style>\n",
              "  .colab-df-quickchart {\n",
              "      --bg-color: #E8F0FE;\n",
              "      --fill-color: #1967D2;\n",
              "      --hover-bg-color: #E2EBFA;\n",
              "      --hover-fill-color: #174EA6;\n",
              "      --disabled-fill-color: #AAA;\n",
              "      --disabled-bg-color: #DDD;\n",
              "  }\n",
              "\n",
              "  [theme=dark] .colab-df-quickchart {\n",
              "      --bg-color: #3B4455;\n",
              "      --fill-color: #D2E3FC;\n",
              "      --hover-bg-color: #434B5C;\n",
              "      --hover-fill-color: #FFFFFF;\n",
              "      --disabled-bg-color: #3B4455;\n",
              "      --disabled-fill-color: #666;\n",
              "  }\n",
              "\n",
              "  .colab-df-quickchart {\n",
              "    background-color: var(--bg-color);\n",
              "    border: none;\n",
              "    border-radius: 50%;\n",
              "    cursor: pointer;\n",
              "    display: none;\n",
              "    fill: var(--fill-color);\n",
              "    height: 32px;\n",
              "    padding: 0;\n",
              "    width: 32px;\n",
              "  }\n",
              "\n",
              "  .colab-df-quickchart:hover {\n",
              "    background-color: var(--hover-bg-color);\n",
              "    box-shadow: 0 1px 2px rgba(60, 64, 67, 0.3), 0 1px 3px 1px rgba(60, 64, 67, 0.15);\n",
              "    fill: var(--button-hover-fill-color);\n",
              "  }\n",
              "\n",
              "  .colab-df-quickchart-complete:disabled,\n",
              "  .colab-df-quickchart-complete:disabled:hover {\n",
              "    background-color: var(--disabled-bg-color);\n",
              "    fill: var(--disabled-fill-color);\n",
              "    box-shadow: none;\n",
              "  }\n",
              "\n",
              "  .colab-df-spinner {\n",
              "    border: 2px solid var(--fill-color);\n",
              "    border-color: transparent;\n",
              "    border-bottom-color: var(--fill-color);\n",
              "    animation:\n",
              "      spin 1s steps(1) infinite;\n",
              "  }\n",
              "\n",
              "  @keyframes spin {\n",
              "    0% {\n",
              "      border-color: transparent;\n",
              "      border-bottom-color: var(--fill-color);\n",
              "      border-left-color: var(--fill-color);\n",
              "    }\n",
              "    20% {\n",
              "      border-color: transparent;\n",
              "      border-left-color: var(--fill-color);\n",
              "      border-top-color: var(--fill-color);\n",
              "    }\n",
              "    30% {\n",
              "      border-color: transparent;\n",
              "      border-left-color: var(--fill-color);\n",
              "      border-top-color: var(--fill-color);\n",
              "      border-right-color: var(--fill-color);\n",
              "    }\n",
              "    40% {\n",
              "      border-color: transparent;\n",
              "      border-right-color: var(--fill-color);\n",
              "      border-top-color: var(--fill-color);\n",
              "    }\n",
              "    60% {\n",
              "      border-color: transparent;\n",
              "      border-right-color: var(--fill-color);\n",
              "    }\n",
              "    80% {\n",
              "      border-color: transparent;\n",
              "      border-right-color: var(--fill-color);\n",
              "      border-bottom-color: var(--fill-color);\n",
              "    }\n",
              "    90% {\n",
              "      border-color: transparent;\n",
              "      border-bottom-color: var(--fill-color);\n",
              "    }\n",
              "  }\n",
              "</style>\n",
              "\n",
              "  <script>\n",
              "    async function quickchart(key) {\n",
              "      const quickchartButtonEl =\n",
              "        document.querySelector('#' + key + ' button');\n",
              "      quickchartButtonEl.disabled = true;  // To prevent multiple clicks.\n",
              "      quickchartButtonEl.classList.add('colab-df-spinner');\n",
              "      try {\n",
              "        const charts = await google.colab.kernel.invokeFunction(\n",
              "            'suggestCharts', [key], {});\n",
              "      } catch (error) {\n",
              "        console.error('Error during call to suggestCharts:', error);\n",
              "      }\n",
              "      quickchartButtonEl.classList.remove('colab-df-spinner');\n",
              "      quickchartButtonEl.classList.add('colab-df-quickchart-complete');\n",
              "    }\n",
              "    (() => {\n",
              "      let quickchartButtonEl =\n",
              "        document.querySelector('#df-44940403-7f89-487d-86bc-b2a7c6b5cc02 button');\n",
              "      quickchartButtonEl.style.display =\n",
              "        google.colab.kernel.accessAllowed ? 'block' : 'none';\n",
              "    })();\n",
              "  </script>\n",
              "</div>\n",
              "\n",
              "    </div>\n",
              "  </div>\n"
            ],
            "application/vnd.google.colaboratory.intrinsic+json": {
              "type": "dataframe",
              "summary": "{\n  \"name\": \"df[['SibSp', 'Parch', 'FamilySize', 'IsAlone', 'Title']]\",\n  \"rows\": 5,\n  \"fields\": [\n    {\n      \"column\": \"SibSp\",\n      \"properties\": {\n        \"dtype\": \"number\",\n        \"std\": 0,\n        \"min\": 0,\n        \"max\": 1,\n        \"num_unique_values\": 2,\n        \"samples\": [\n          0,\n          1\n        ],\n        \"semantic_type\": \"\",\n        \"description\": \"\"\n      }\n    },\n    {\n      \"column\": \"Parch\",\n      \"properties\": {\n        \"dtype\": \"number\",\n        \"std\": 0,\n        \"min\": 0,\n        \"max\": 0,\n        \"num_unique_values\": 1,\n        \"samples\": [\n          0\n        ],\n        \"semantic_type\": \"\",\n        \"description\": \"\"\n      }\n    },\n    {\n      \"column\": \"FamilySize\",\n      \"properties\": {\n        \"dtype\": \"number\",\n        \"std\": 0,\n        \"min\": 1,\n        \"max\": 2,\n        \"num_unique_values\": 2,\n        \"samples\": [\n          1\n        ],\n        \"semantic_type\": \"\",\n        \"description\": \"\"\n      }\n    },\n    {\n      \"column\": \"IsAlone\",\n      \"properties\": {\n        \"dtype\": \"number\",\n        \"std\": 0,\n        \"min\": 0,\n        \"max\": 1,\n        \"num_unique_values\": 2,\n        \"samples\": [\n          1\n        ],\n        \"semantic_type\": \"\",\n        \"description\": \"\"\n      }\n    },\n    {\n      \"column\": \"Title\",\n      \"properties\": {\n        \"dtype\": \"number\",\n        \"std\": 0,\n        \"min\": 1,\n        \"max\": 1,\n        \"num_unique_values\": 1,\n        \"samples\": [\n          1\n        ],\n        \"semantic_type\": \"\",\n        \"description\": \"\"\n      }\n    }\n  ]\n}"
            }
          },
          "metadata": {},
          "execution_count": 50
        }
      ],
      "source": [
        "df[['SibSp', 'Parch', 'FamilySize', 'IsAlone', 'Title']].head()"
      ]
    },
    {
      "cell_type": "markdown",
      "metadata": {
        "id": "ZuHWOGSXTI9y"
      },
      "source": [
        "Agora vamos normalizar as colunas Age e Fare utilizando o método Min-Max Scaling. Esse método é simples, preserva a ordem dos dados e garante sua consistência para modelos que possamos usar no futuro que dependam de normalização."
      ]
    },
    {
      "cell_type": "code",
      "execution_count": 51,
      "metadata": {
        "id": "UTIJ4f5EUgL8"
      },
      "outputs": [],
      "source": [
        "#Definindo a escala como sendo de 0 a 1\n",
        "scaler = MinMaxScaler()\n",
        "\n",
        "#Selecionando as colunas que serão escalonadas\n",
        "numeric_columns = ['Age', 'Fare']\n",
        "\n",
        "#Aplicando o escalonamento\n",
        "df[numeric_columns] = scaler.fit_transform(df[numeric_columns])"
      ]
    },
    {
      "cell_type": "code",
      "execution_count": 52,
      "metadata": {
        "colab": {
          "base_uri": "https://localhost:8080/",
          "height": 300
        },
        "collapsed": true,
        "id": "LWye88GlV-Oh",
        "outputId": "5829002e-9cb5-453c-acef-b79ae675eedc"
      },
      "outputs": [
        {
          "output_type": "execute_result",
          "data": {
            "text/plain": [
              "              Age        Fare\n",
              "count  891.000000  891.000000\n",
              "mean     0.363679    0.062858\n",
              "std      0.163605    0.096995\n",
              "min      0.000000    0.000000\n",
              "25%      0.271174    0.015440\n",
              "50%      0.346569    0.028213\n",
              "75%      0.434531    0.060508\n",
              "max      1.000000    1.000000"
            ],
            "text/html": [
              "\n",
              "  <div id=\"df-d55e9347-f8aa-4366-b5fc-fff1d9fb55f2\" class=\"colab-df-container\">\n",
              "    <div>\n",
              "<style scoped>\n",
              "    .dataframe tbody tr th:only-of-type {\n",
              "        vertical-align: middle;\n",
              "    }\n",
              "\n",
              "    .dataframe tbody tr th {\n",
              "        vertical-align: top;\n",
              "    }\n",
              "\n",
              "    .dataframe thead th {\n",
              "        text-align: right;\n",
              "    }\n",
              "</style>\n",
              "<table border=\"1\" class=\"dataframe\">\n",
              "  <thead>\n",
              "    <tr style=\"text-align: right;\">\n",
              "      <th></th>\n",
              "      <th>Age</th>\n",
              "      <th>Fare</th>\n",
              "    </tr>\n",
              "  </thead>\n",
              "  <tbody>\n",
              "    <tr>\n",
              "      <th>count</th>\n",
              "      <td>891.000000</td>\n",
              "      <td>891.000000</td>\n",
              "    </tr>\n",
              "    <tr>\n",
              "      <th>mean</th>\n",
              "      <td>0.363679</td>\n",
              "      <td>0.062858</td>\n",
              "    </tr>\n",
              "    <tr>\n",
              "      <th>std</th>\n",
              "      <td>0.163605</td>\n",
              "      <td>0.096995</td>\n",
              "    </tr>\n",
              "    <tr>\n",
              "      <th>min</th>\n",
              "      <td>0.000000</td>\n",
              "      <td>0.000000</td>\n",
              "    </tr>\n",
              "    <tr>\n",
              "      <th>25%</th>\n",
              "      <td>0.271174</td>\n",
              "      <td>0.015440</td>\n",
              "    </tr>\n",
              "    <tr>\n",
              "      <th>50%</th>\n",
              "      <td>0.346569</td>\n",
              "      <td>0.028213</td>\n",
              "    </tr>\n",
              "    <tr>\n",
              "      <th>75%</th>\n",
              "      <td>0.434531</td>\n",
              "      <td>0.060508</td>\n",
              "    </tr>\n",
              "    <tr>\n",
              "      <th>max</th>\n",
              "      <td>1.000000</td>\n",
              "      <td>1.000000</td>\n",
              "    </tr>\n",
              "  </tbody>\n",
              "</table>\n",
              "</div>\n",
              "    <div class=\"colab-df-buttons\">\n",
              "\n",
              "  <div class=\"colab-df-container\">\n",
              "    <button class=\"colab-df-convert\" onclick=\"convertToInteractive('df-d55e9347-f8aa-4366-b5fc-fff1d9fb55f2')\"\n",
              "            title=\"Convert this dataframe to an interactive table.\"\n",
              "            style=\"display:none;\">\n",
              "\n",
              "  <svg xmlns=\"http://www.w3.org/2000/svg\" height=\"24px\" viewBox=\"0 -960 960 960\">\n",
              "    <path d=\"M120-120v-720h720v720H120Zm60-500h600v-160H180v160Zm220 220h160v-160H400v160Zm0 220h160v-160H400v160ZM180-400h160v-160H180v160Zm440 0h160v-160H620v160ZM180-180h160v-160H180v160Zm440 0h160v-160H620v160Z\"/>\n",
              "  </svg>\n",
              "    </button>\n",
              "\n",
              "  <style>\n",
              "    .colab-df-container {\n",
              "      display:flex;\n",
              "      gap: 12px;\n",
              "    }\n",
              "\n",
              "    .colab-df-convert {\n",
              "      background-color: #E8F0FE;\n",
              "      border: none;\n",
              "      border-radius: 50%;\n",
              "      cursor: pointer;\n",
              "      display: none;\n",
              "      fill: #1967D2;\n",
              "      height: 32px;\n",
              "      padding: 0 0 0 0;\n",
              "      width: 32px;\n",
              "    }\n",
              "\n",
              "    .colab-df-convert:hover {\n",
              "      background-color: #E2EBFA;\n",
              "      box-shadow: 0px 1px 2px rgba(60, 64, 67, 0.3), 0px 1px 3px 1px rgba(60, 64, 67, 0.15);\n",
              "      fill: #174EA6;\n",
              "    }\n",
              "\n",
              "    .colab-df-buttons div {\n",
              "      margin-bottom: 4px;\n",
              "    }\n",
              "\n",
              "    [theme=dark] .colab-df-convert {\n",
              "      background-color: #3B4455;\n",
              "      fill: #D2E3FC;\n",
              "    }\n",
              "\n",
              "    [theme=dark] .colab-df-convert:hover {\n",
              "      background-color: #434B5C;\n",
              "      box-shadow: 0px 1px 3px 1px rgba(0, 0, 0, 0.15);\n",
              "      filter: drop-shadow(0px 1px 2px rgba(0, 0, 0, 0.3));\n",
              "      fill: #FFFFFF;\n",
              "    }\n",
              "  </style>\n",
              "\n",
              "    <script>\n",
              "      const buttonEl =\n",
              "        document.querySelector('#df-d55e9347-f8aa-4366-b5fc-fff1d9fb55f2 button.colab-df-convert');\n",
              "      buttonEl.style.display =\n",
              "        google.colab.kernel.accessAllowed ? 'block' : 'none';\n",
              "\n",
              "      async function convertToInteractive(key) {\n",
              "        const element = document.querySelector('#df-d55e9347-f8aa-4366-b5fc-fff1d9fb55f2');\n",
              "        const dataTable =\n",
              "          await google.colab.kernel.invokeFunction('convertToInteractive',\n",
              "                                                    [key], {});\n",
              "        if (!dataTable) return;\n",
              "\n",
              "        const docLinkHtml = 'Like what you see? Visit the ' +\n",
              "          '<a target=\"_blank\" href=https://colab.research.google.com/notebooks/data_table.ipynb>data table notebook</a>'\n",
              "          + ' to learn more about interactive tables.';\n",
              "        element.innerHTML = '';\n",
              "        dataTable['output_type'] = 'display_data';\n",
              "        await google.colab.output.renderOutput(dataTable, element);\n",
              "        const docLink = document.createElement('div');\n",
              "        docLink.innerHTML = docLinkHtml;\n",
              "        element.appendChild(docLink);\n",
              "      }\n",
              "    </script>\n",
              "  </div>\n",
              "\n",
              "\n",
              "<div id=\"df-db410747-d015-4ab6-abee-fe78004e9bdd\">\n",
              "  <button class=\"colab-df-quickchart\" onclick=\"quickchart('df-db410747-d015-4ab6-abee-fe78004e9bdd')\"\n",
              "            title=\"Suggest charts\"\n",
              "            style=\"display:none;\">\n",
              "\n",
              "<svg xmlns=\"http://www.w3.org/2000/svg\" height=\"24px\"viewBox=\"0 0 24 24\"\n",
              "     width=\"24px\">\n",
              "    <g>\n",
              "        <path d=\"M19 3H5c-1.1 0-2 .9-2 2v14c0 1.1.9 2 2 2h14c1.1 0 2-.9 2-2V5c0-1.1-.9-2-2-2zM9 17H7v-7h2v7zm4 0h-2V7h2v10zm4 0h-2v-4h2v4z\"/>\n",
              "    </g>\n",
              "</svg>\n",
              "  </button>\n",
              "\n",
              "<style>\n",
              "  .colab-df-quickchart {\n",
              "      --bg-color: #E8F0FE;\n",
              "      --fill-color: #1967D2;\n",
              "      --hover-bg-color: #E2EBFA;\n",
              "      --hover-fill-color: #174EA6;\n",
              "      --disabled-fill-color: #AAA;\n",
              "      --disabled-bg-color: #DDD;\n",
              "  }\n",
              "\n",
              "  [theme=dark] .colab-df-quickchart {\n",
              "      --bg-color: #3B4455;\n",
              "      --fill-color: #D2E3FC;\n",
              "      --hover-bg-color: #434B5C;\n",
              "      --hover-fill-color: #FFFFFF;\n",
              "      --disabled-bg-color: #3B4455;\n",
              "      --disabled-fill-color: #666;\n",
              "  }\n",
              "\n",
              "  .colab-df-quickchart {\n",
              "    background-color: var(--bg-color);\n",
              "    border: none;\n",
              "    border-radius: 50%;\n",
              "    cursor: pointer;\n",
              "    display: none;\n",
              "    fill: var(--fill-color);\n",
              "    height: 32px;\n",
              "    padding: 0;\n",
              "    width: 32px;\n",
              "  }\n",
              "\n",
              "  .colab-df-quickchart:hover {\n",
              "    background-color: var(--hover-bg-color);\n",
              "    box-shadow: 0 1px 2px rgba(60, 64, 67, 0.3), 0 1px 3px 1px rgba(60, 64, 67, 0.15);\n",
              "    fill: var(--button-hover-fill-color);\n",
              "  }\n",
              "\n",
              "  .colab-df-quickchart-complete:disabled,\n",
              "  .colab-df-quickchart-complete:disabled:hover {\n",
              "    background-color: var(--disabled-bg-color);\n",
              "    fill: var(--disabled-fill-color);\n",
              "    box-shadow: none;\n",
              "  }\n",
              "\n",
              "  .colab-df-spinner {\n",
              "    border: 2px solid var(--fill-color);\n",
              "    border-color: transparent;\n",
              "    border-bottom-color: var(--fill-color);\n",
              "    animation:\n",
              "      spin 1s steps(1) infinite;\n",
              "  }\n",
              "\n",
              "  @keyframes spin {\n",
              "    0% {\n",
              "      border-color: transparent;\n",
              "      border-bottom-color: var(--fill-color);\n",
              "      border-left-color: var(--fill-color);\n",
              "    }\n",
              "    20% {\n",
              "      border-color: transparent;\n",
              "      border-left-color: var(--fill-color);\n",
              "      border-top-color: var(--fill-color);\n",
              "    }\n",
              "    30% {\n",
              "      border-color: transparent;\n",
              "      border-left-color: var(--fill-color);\n",
              "      border-top-color: var(--fill-color);\n",
              "      border-right-color: var(--fill-color);\n",
              "    }\n",
              "    40% {\n",
              "      border-color: transparent;\n",
              "      border-right-color: var(--fill-color);\n",
              "      border-top-color: var(--fill-color);\n",
              "    }\n",
              "    60% {\n",
              "      border-color: transparent;\n",
              "      border-right-color: var(--fill-color);\n",
              "    }\n",
              "    80% {\n",
              "      border-color: transparent;\n",
              "      border-right-color: var(--fill-color);\n",
              "      border-bottom-color: var(--fill-color);\n",
              "    }\n",
              "    90% {\n",
              "      border-color: transparent;\n",
              "      border-bottom-color: var(--fill-color);\n",
              "    }\n",
              "  }\n",
              "</style>\n",
              "\n",
              "  <script>\n",
              "    async function quickchart(key) {\n",
              "      const quickchartButtonEl =\n",
              "        document.querySelector('#' + key + ' button');\n",
              "      quickchartButtonEl.disabled = true;  // To prevent multiple clicks.\n",
              "      quickchartButtonEl.classList.add('colab-df-spinner');\n",
              "      try {\n",
              "        const charts = await google.colab.kernel.invokeFunction(\n",
              "            'suggestCharts', [key], {});\n",
              "      } catch (error) {\n",
              "        console.error('Error during call to suggestCharts:', error);\n",
              "      }\n",
              "      quickchartButtonEl.classList.remove('colab-df-spinner');\n",
              "      quickchartButtonEl.classList.add('colab-df-quickchart-complete');\n",
              "    }\n",
              "    (() => {\n",
              "      let quickchartButtonEl =\n",
              "        document.querySelector('#df-db410747-d015-4ab6-abee-fe78004e9bdd button');\n",
              "      quickchartButtonEl.style.display =\n",
              "        google.colab.kernel.accessAllowed ? 'block' : 'none';\n",
              "    })();\n",
              "  </script>\n",
              "</div>\n",
              "\n",
              "    </div>\n",
              "  </div>\n"
            ],
            "application/vnd.google.colaboratory.intrinsic+json": {
              "type": "dataframe",
              "summary": "{\n  \"name\": \"df[['Age', 'Fare']]\",\n  \"rows\": 8,\n  \"fields\": [\n    {\n      \"column\": \"Age\",\n      \"properties\": {\n        \"dtype\": \"number\",\n        \"std\": 314.8859176710529,\n        \"min\": 0.0,\n        \"max\": 891.0,\n        \"num_unique_values\": 8,\n        \"samples\": [\n          0.36367909640088575,\n          0.34656948982156316,\n          891.0\n        ],\n        \"semantic_type\": \"\",\n        \"description\": \"\"\n      }\n    },\n    {\n      \"column\": \"Fare\",\n      \"properties\": {\n        \"dtype\": \"number\",\n        \"std\": 314.9524077771395,\n        \"min\": 0.0,\n        \"max\": 891.0,\n        \"num_unique_values\": 8,\n        \"samples\": [\n          0.06285842768394742,\n          0.028212719478023115,\n          891.0\n        ],\n        \"semantic_type\": \"\",\n        \"description\": \"\"\n      }\n    }\n  ]\n}"
            }
          },
          "metadata": {},
          "execution_count": 52
        }
      ],
      "source": [
        "#Verificando\n",
        "df[['Age', 'Fare']].describe()"
      ]
    },
    {
      "cell_type": "markdown",
      "metadata": {
        "id": "hO0-oroaqTbo"
      },
      "source": [
        "Verificado que os valores de Age e Fare foram normalizados. Agora vamos concluir a etapa de pré-processamento de dados, eliminado outliers dessas colunas que foram escaladas que podem atrapalhar no aprendizado do algoritmo.\\\n",
        "Para isso, utilizaremos o método IQR."
      ]
    },
    {
      "cell_type": "code",
      "execution_count": 53,
      "metadata": {
        "colab": {
          "base_uri": "https://localhost:8080/"
        },
        "collapsed": true,
        "id": "XamNrFZ8qiLO",
        "outputId": "dfcb2f15-4986-402a-bdcd-2c661c152b1b"
      },
      "outputs": [
        {
          "output_type": "stream",
          "name": "stdout",
          "text": [
            "Outliers em 'Age':      PassengerId  Survived  Pclass  \\\n",
            "7              8         0       3   \n",
            "11            12         1       1   \n",
            "15            16         1       2   \n",
            "16            17         0       3   \n",
            "33            34         0       2   \n",
            "..           ...       ...     ...   \n",
            "827          828         1       2   \n",
            "829          830         1       1   \n",
            "831          832         1       2   \n",
            "851          852         0       3   \n",
            "879          880         1       1   \n",
            "\n",
            "                                              Name  Sex       Age  SibSp  \\\n",
            "7                   Palsson, Master. Gosta Leonard    0  0.019854      3   \n",
            "11                        Bonnell, Miss. Elizabeth    1  0.723549      0   \n",
            "15                Hewlett, Mrs. (Mary D Kingcome)     1  0.685851      0   \n",
            "16                            Rice, Master. Eugene    0  0.019854      4   \n",
            "33                           Wheadon, Mr. Edward H    0  0.824076      0   \n",
            "..                                             ...  ...       ...    ...   \n",
            "827                          Mallet, Master. Andre    0  0.007288      0   \n",
            "829      Stone, Mrs. George Nelson (Martha Evelyn)    1  0.773813      0   \n",
            "831                Richards, Master. George Sibley    0  0.005152      1   \n",
            "851                            Svensson, Mr. Johan    0  0.924604      0   \n",
            "879  Potter, Mrs. Thomas Jr (Lily Alexenia Wilson)    1  0.698417      0   \n",
            "\n",
            "     Parch           Ticket      Fare  Embarked_C  Embarked_Q  Embarked_S  \\\n",
            "7        1           349909  0.041136       False       False        True   \n",
            "11       0           113783  0.051822       False       False        True   \n",
            "15       0           248706  0.031230       False       False        True   \n",
            "16       1           382652  0.056848       False        True       False   \n",
            "33       0       C.A. 24579  0.020495       False       False        True   \n",
            "..     ...              ...       ...         ...         ...         ...   \n",
            "827      2  S.C./PARIS 2079  0.072227        True       False       False   \n",
            "829      0           113572  0.156150       False       False        True   \n",
            "831      1            29106  0.036598       False       False        True   \n",
            "851      0           347060  0.015176       False       False        True   \n",
            "879      1            11767  0.162314        True       False       False   \n",
            "\n",
            "     FamilySize  IsAlone  Title  \n",
            "7             5        0      1  \n",
            "11            1        1      1  \n",
            "15            1        1      1  \n",
            "16            6        0      1  \n",
            "33            1        1      1  \n",
            "..          ...      ...    ...  \n",
            "827           3        0      1  \n",
            "829           1        1      1  \n",
            "831           3        0      1  \n",
            "851           1        1      1  \n",
            "879           2        0      1  \n",
            "\n",
            "[66 rows x 16 columns]\n",
            "Outliers em 'Fare':      PassengerId  Survived  Pclass  \\\n",
            "1              2         1       1   \n",
            "27            28         0       1   \n",
            "31            32         1       1   \n",
            "34            35         0       1   \n",
            "52            53         1       1   \n",
            "..           ...       ...     ...   \n",
            "846          847         0       3   \n",
            "849          850         1       1   \n",
            "856          857         1       1   \n",
            "863          864         0       3   \n",
            "879          880         1       1   \n",
            "\n",
            "                                                  Name  Sex       Age  SibSp  \\\n",
            "1    Cumings, Mrs. John Bradley (Florence Briggs Th...    1  0.472229      1   \n",
            "27                      Fortune, Mr. Charles Alexander    0  0.233476      3   \n",
            "31      Spencer, Mrs. William Augustus (Marie Eugenie)    1  0.346569      1   \n",
            "34                             Meyer, Mr. Edgar Joseph    0  0.346569      1   \n",
            "52            Harper, Mrs. Henry Sleeper (Myna Haxtun)    1  0.610455      1   \n",
            "..                                                 ...  ...       ...    ...   \n",
            "846                           Sage, Mr. Douglas Bullen    0  0.346569      8   \n",
            "849       Goldenberg, Mrs. Samuel L (Edwiga Grabowska)    1  0.346569      1   \n",
            "856         Wick, Mrs. George Dennick (Mary Hitchcock)    1  0.560191      1   \n",
            "863                  Sage, Miss. Dorothy Edith \"Dolly\"    1  0.346569      8   \n",
            "879      Potter, Mrs. Thomas Jr (Lily Alexenia Wilson)    1  0.698417      0   \n",
            "\n",
            "     Parch    Ticket      Fare  Embarked_C  Embarked_Q  Embarked_S  \\\n",
            "1        0  PC 17599  0.139136        True       False       False   \n",
            "27       2     19950  0.513342       False       False        True   \n",
            "31       0  PC 17569  0.285990        True       False       False   \n",
            "34       0  PC 17604  0.160387        True       False       False   \n",
            "52       0  PC 17572  0.149765        True       False       False   \n",
            "..     ...       ...       ...         ...         ...         ...   \n",
            "846      2  CA. 2343  0.135753       False       False        True   \n",
            "849      0     17453  0.173920        True       False       False   \n",
            "856      1     36928  0.321798       False       False        True   \n",
            "863      2  CA. 2343  0.135753       False       False        True   \n",
            "879      1     11767  0.162314        True       False       False   \n",
            "\n",
            "     FamilySize  IsAlone  Title  \n",
            "1             2        0      1  \n",
            "27            6        0      1  \n",
            "31            2        0      1  \n",
            "34            2        0      1  \n",
            "52            2        0      1  \n",
            "..          ...      ...    ...  \n",
            "846          11        0      1  \n",
            "849           2        0      1  \n",
            "856           3        0      1  \n",
            "863          11        0      1  \n",
            "879           2        0      1  \n",
            "\n",
            "[116 rows x 16 columns]\n"
          ]
        }
      ],
      "source": [
        "def detect_outliers_iqr(df, column):\n",
        "    Q1 = df[column].quantile(0.25)\n",
        "    Q3 = df[column].quantile(0.75)\n",
        "    IQR = Q3 - Q1\n",
        "    lower_bound = Q1 - 1.5 * IQR\n",
        "    upper_bound = Q3 + 1.5 * IQR\n",
        "    return df[(df[column] < lower_bound) | (df[column] > upper_bound)]\n",
        "\n",
        "outliers_age = detect_outliers_iqr(df, 'Age')\n",
        "outliers_fare = detect_outliers_iqr(df, 'Fare')\n",
        "\n",
        "#Mostrar os outliers\n",
        "print(\"Outliers em 'Age':\", outliers_age)\n",
        "print(\"Outliers em 'Fare':\", outliers_fare)\n"
      ]
    },
    {
      "cell_type": "code",
      "execution_count": 54,
      "metadata": {
        "colab": {
          "base_uri": "https://localhost:8080/",
          "height": 445
        },
        "id": "npLIAtDwsqaX",
        "outputId": "448bbe7d-035c-4d17-bbf0-3402bc28eab1"
      },
      "outputs": [
        {
          "output_type": "display_data",
          "data": {
            "text/plain": [
              "<Figure size 1000x500 with 2 Axes>"
            ],
            "image/png": "[encoded data removed]"
          },
          "metadata": {}
        }
      ],
      "source": [
        "#Criar boxplots para 'Age' e 'Fare'\n",
        "df[['Age', 'Fare']].plot(kind='box', subplots=True, layout=(1, 2), figsize=(10, 5))\n",
        "plt.show()\n"
      ]
    },
    {
      "cell_type": "markdown",
      "metadata": {
        "id": "HwrCsSmXty_u"
      },
      "source": [
        "Para Age não faremos transformação, visto que, a distribuição dos valores está adequada. Os poucos outliers encontrados, representam idades muito jovens ou muito velhos, informação que creio ser fundamental na análise da chance de sobrevivência de um indivíduo.\\\n",
        "Na coluna Fare, aplicaremos uma transformação logarítma, isso reduzirá a influência dos vários valores extremos que foram encontrados sem descartar informações úteis. Acredito que essas informações serão importantes para obter diferenças dentro de uma mesma classe."
      ]
    },
    {
      "cell_type": "code",
      "execution_count": 55,
      "metadata": {
        "id": "CUBZp4K0woL9"
      },
      "outputs": [],
      "source": [
        "#Aplicar transformação logarítmica\n",
        "df['Fare'] = np.log1p(df['Fare'])"
      ]
    },
    {
      "cell_type": "code",
      "execution_count": 56,
      "metadata": {
        "colab": {
          "base_uri": "https://localhost:8080/",
          "height": 445
        },
        "id": "NrfgL55PZDWS",
        "outputId": "31dd311d-e02c-459b-e2d2-37d01c2975c2"
      },
      "outputs": [
        {
          "output_type": "display_data",
          "data": {
            "text/plain": [
              "<Figure size 1000x500 with 2 Axes>"
            ],
            "image/png": "[encoded data removed]"
          },
          "metadata": {}
        }
      ],
      "source": [
        "#Revisando 'Fare'\n",
        "df['Fare'].plot(kind='box', subplots=True, layout=(1, 2), figsize=(10, 5))\n",
        "plt.show()"
      ]
    },
    {
      "cell_type": "markdown",
      "metadata": {
        "id": "lWQnEtyEyHLO"
      },
      "source": [
        "Terminado o tratamento dos outliers, podemos agora preparar os dados para a modelagem."
      ]
    },
    {
      "cell_type": "markdown",
      "metadata": {
        "id": "FYn_cNJ59zqD"
      },
      "source": [
        "#***Preparação para Modelagem***"
      ]
    },
    {
      "cell_type": "markdown",
      "metadata": {
        "id": "bofjJTvC9-Wf"
      },
      "source": [
        "Com os dados pré-processados, iremos agora realizar o feature selection, escolhendo quais colunas utilizar no modelo, para reduzir a complexidade e focar apenas nas informações úteis.\\\n",
        "Vamos ver o resultado do pré-processamento:"
      ]
    },
    {
      "cell_type": "code",
      "execution_count": 57,
      "metadata": {
        "colab": {
          "base_uri": "https://localhost:8080/"
        },
        "id": "SpbDakWMAdwq",
        "outputId": "2dca3f27-7797-4f52-8786-627bfba7a3d2"
      },
      "outputs": [
        {
          "output_type": "stream",
          "name": "stdout",
          "text": [
            "   PassengerId  Survived  Pclass  \\\n",
            "0            1         0       3   \n",
            "1            2         1       1   \n",
            "2            3         1       3   \n",
            "3            4         1       1   \n",
            "4            5         0       3   \n",
            "\n",
            "                                                Name  Sex       Age  SibSp  \\\n",
            "0                            Braund, Mr. Owen Harris    0  0.271174      1   \n",
            "1  Cumings, Mrs. John Bradley (Florence Briggs Th...    1  0.472229      1   \n",
            "2                             Heikkinen, Miss. Laina    1  0.321438      0   \n",
            "3       Futrelle, Mrs. Jacques Heath (Lily May Peel)    1  0.434531      1   \n",
            "4                           Allen, Mr. William Henry    0  0.434531      0   \n",
            "\n",
            "   Parch            Ticket      Fare  Embarked_C  Embarked_Q  Embarked_S  \\\n",
            "0      0         A/5 21171  0.014052       False       False        True   \n",
            "1      0          PC 17599  0.130270        True       False       False   \n",
            "2      0  STON/O2. 3101282  0.015350       False       False        True   \n",
            "3      0            113803  0.098618       False       False        True   \n",
            "4      0            373450  0.015590       False       False        True   \n",
            "\n",
            "   FamilySize  IsAlone  Title  \n",
            "0           2        0      1  \n",
            "1           2        0      1  \n",
            "2           1        1      1  \n",
            "3           2        0      1  \n",
            "4           1        1      1  \n"
          ]
        }
      ],
      "source": [
        "print(df.head())"
      ]
    },
    {
      "cell_type": "markdown",
      "metadata": {
        "id": "1oGs4qBRCPv1"
      },
      "source": [
        "Agora iremos ver a correlação das colunas de atributo com o resultado da coluna Survived."
      ]
    },
    {
      "cell_type": "code",
      "execution_count": 58,
      "metadata": {
        "colab": {
          "base_uri": "https://localhost:8080/",
          "height": 905
        },
        "id": "i8arDLmxCbUm",
        "outputId": "893a5e3c-61d4-47dc-ed29-8abbd42dea6b"
      },
      "outputs": [
        {
          "output_type": "stream",
          "name": "stdout",
          "text": [
            "Survived       1.000000\n",
            "Sex            0.543351\n",
            "Fare           0.274425\n",
            "Embarked_C     0.168240\n",
            "Parch          0.081629\n",
            "FamilySize     0.016639\n",
            "Embarked_Q     0.003650\n",
            "PassengerId   -0.005007\n",
            "Title         -0.022030\n",
            "SibSp         -0.035322\n",
            "Age           -0.064910\n",
            "Embarked_S    -0.149683\n",
            "IsAlone       -0.203367\n",
            "Pclass        -0.338481\n",
            "Name: Survived, dtype: float64\n"
          ]
        },
        {
          "output_type": "display_data",
          "data": {
            "text/plain": [
              "<Figure size 1000x600 with 1 Axes>"
            ],
            "image/png": "[encoded data removed]"
          },
          "metadata": {}
        }
      ],
      "source": [
        "#Calculando correlação\n",
        "correlation_matrix = df.corr(numeric_only=True)\n",
        "correlation_with_target = correlation_matrix['Survived'].sort_values(ascending=False)\n",
        "print(correlation_with_target)\n",
        "\n",
        "#Criando gráfico de barras\n",
        "correlation_with_target.plot(kind='bar', figsize=(10, 6), color='skyblue')\n",
        "\n",
        "#Adicionar legenda\n",
        "plt.title('Correlação com o Target (Survived)', fontsize=16)\n",
        "plt.xlabel('Variáveis', fontsize=12)\n",
        "plt.ylabel('Correlação', fontsize=12)\n",
        "\n",
        "#Exibir o gráfico\n",
        "plt.show()"
      ]
    },
    {
      "cell_type": "markdown",
      "source": [
        "Podemos perceber que Sex é a coluna mais diretamente correlacionada com Survived. Favorecendo as mulheres, já que male=0 e female=1 foi definido anteriormente. Já em relação a idade, a diferença não foi tão significativa, mas mostra que pessoas mais novas tiveram mais chance de sobreviver. Esses resultados eram esperados, visto a famosa frase \"mulheres e crianças primeiro\"."
      ],
      "metadata": {
        "id": "F5kJ2DbLUJpO"
      }
    },
    {
      "cell_type": "markdown",
      "metadata": {
        "id": "4MTOdZdTx22x"
      },
      "source": [
        "#***Treinamento de um Modelo Inicial***"
      ]
    },
    {
      "cell_type": "markdown",
      "metadata": {
        "id": "61p2D0JEIqY7"
      },
      "source": [
        "Removeremos as colunas que apresentaram correlação relativa próxima de 0, FamilySize, Embarked_Q, PassengerId, Title e SibSp e manteremos as outras com correlação positiva.\\\n",
        "Vamos testar vários modelos regressão logística, Gradient Boosting, K-vizinhos mais próximos (KNN), SVM e Random Forest.\n",
        "Aplicando o cross validation em cada um deles para ter uma avaliação mais confiável. Vamos fazer isso para garantir a consistência dos resultados. Isso ajuda a evitar viés e reduz o impacto de outliers ou desequilíbrios em subconjuntos específicos."
      ]
    },
    {
      "cell_type": "code",
      "execution_count": 61,
      "metadata": {
        "id": "SfOahrH-LlzY"
      },
      "outputs": [],
      "source": [
        "X = df[['Sex', 'Fare', 'Embarked_C',  'Parch', 'Age', 'Embarked_S', 'IsAlone', 'Pclass']]\n",
        "y = df['Survived']\n",
        "\n",
        "# Divisão 80% treinamento e 20% teste\n",
        "X_train, X_test, y_train, y_test = train_test_split(X, y, test_size=0.2, random_state=42)"
      ]
    },
    {
      "cell_type": "markdown",
      "metadata": {
        "id": "aBZSxxTa5XQe"
      },
      "source": [
        "Instaciaremos vários modelos"
      ]
    },
    {
      "cell_type": "code",
      "execution_count": 62,
      "metadata": {
        "colab": {
          "base_uri": "https://localhost:8080/"
        },
        "id": "Xuh5ANI32akp",
        "outputId": "af47778d-2835-4d39-8a6c-47d477d17db6"
      },
      "outputs": [
        {
          "output_type": "stream",
          "name": "stdout",
          "text": [
            "Logistic Regression: Mean Accuracy = 0.79, Std = 0.06\n",
            "              precision    recall  f1-score   support\n",
            "\n",
            "           0       0.83      0.85      0.84       105\n",
            "           1       0.78      0.76      0.77        74\n",
            "\n",
            "    accuracy                           0.81       179\n",
            "   macro avg       0.80      0.80      0.80       179\n",
            "weighted avg       0.81      0.81      0.81       179\n",
            "\n",
            "Gradient Boosting: Mean Accuracy = 0.81, Std = 0.05\n",
            "              precision    recall  f1-score   support\n",
            "\n",
            "           0       0.83      0.85      0.84       105\n",
            "           1       0.78      0.76      0.77        74\n",
            "\n",
            "    accuracy                           0.81       179\n",
            "   macro avg       0.80      0.80      0.80       179\n",
            "weighted avg       0.81      0.81      0.81       179\n",
            "\n",
            "K-Nearest Neighbors: Mean Accuracy = 0.78, Std = 0.05\n",
            "              precision    recall  f1-score   support\n",
            "\n",
            "           0       0.83      0.85      0.84       105\n",
            "           1       0.78      0.76      0.77        74\n",
            "\n",
            "    accuracy                           0.81       179\n",
            "   macro avg       0.80      0.80      0.80       179\n",
            "weighted avg       0.81      0.81      0.81       179\n",
            "\n",
            "Support Vector Machine: Mean Accuracy = 0.80, Std = 0.07\n",
            "              precision    recall  f1-score   support\n",
            "\n",
            "           0       0.83      0.85      0.84       105\n",
            "           1       0.78      0.76      0.77        74\n",
            "\n",
            "    accuracy                           0.81       179\n",
            "   macro avg       0.80      0.80      0.80       179\n",
            "weighted avg       0.81      0.81      0.81       179\n",
            "\n",
            "Random Forest Classifier: Mean Accuracy = 0.78, Std = 0.06\n",
            "              precision    recall  f1-score   support\n",
            "\n",
            "           0       0.83      0.85      0.84       105\n",
            "           1       0.78      0.76      0.77        74\n",
            "\n",
            "    accuracy                           0.81       179\n",
            "   macro avg       0.80      0.80      0.80       179\n",
            "weighted avg       0.81      0.81      0.81       179\n",
            "\n"
          ]
        }
      ],
      "source": [
        "# Dicionário de modelos\n",
        "models = {\n",
        "    \"Logistic Regression\": LogisticRegression(random_state=42),\n",
        "    \"Gradient Boosting\": GradientBoostingClassifier(random_state=42),\n",
        "    \"K-Nearest Neighbors\": KNeighborsClassifier(),\n",
        "    \"Support Vector Machine\": SVC(random_state=42),\n",
        "    \"Random Forest Classifier\": RandomForestClassifier(random_state=42),\n",
        "}\n",
        "\n",
        "# Avaliar cada modelo utilizando cross validation\n",
        "results = {}\n",
        "for model_name, model in models.items():\n",
        "    cv_scores = cross_val_score(model, X_train, y_train, cv=7, scoring='accuracy')\n",
        "    results[model_name] = (cv_scores.mean(), cv_scores.std())\n",
        "\n",
        "# Treinar o modelo e fazer previsões\n",
        "    model.fit(X_train, y_train)\n",
        "    y_pred = model.predict(X_test)\n",
        "\n",
        "# Mostrar resultados\n",
        "for model, (mean_score, std_score) in results.items():\n",
        "    print(f\"{model}: Mean Accuracy = {mean_score:.2f}, Std = {std_score:.2f}\")\n",
        "    print(classification_report(y_test, y_pred))"
      ]
    },
    {
      "cell_type": "code",
      "execution_count": 63,
      "metadata": {
        "colab": {
          "base_uri": "https://localhost:8080/",
          "height": 564
        },
        "id": "pdGZXS23Hte6",
        "outputId": "b41e47ce-537f-4bae-b0b4-bb08551db6c6"
      },
      "outputs": [
        {
          "output_type": "display_data",
          "data": {
            "text/plain": [
              "<Figure size 1000x600 with 1 Axes>"
            ],
            "image/png": "[encoded data removed]"
          },
          "metadata": {}
        }
      ],
      "source": [
        "# Preparar dados para o gráfico\n",
        "model_names = list(results.keys())\n",
        "mean_scores = [results[model][0] for model in model_names]\n",
        "std_scores = [results[model][1] for model in model_names]\n",
        "\n",
        "# Gráfico de barras\n",
        "plt.figure(figsize=(10, 6))\n",
        "plt.barh(model_names, mean_scores, xerr=std_scores, color='skyblue', edgecolor='black')\n",
        "plt.xlabel(\"Mean Accuracy\")\n",
        "plt.title(\"Comparação de Modelos\")\n",
        "plt.show()"
      ]
    },
    {
      "cell_type": "markdown",
      "metadata": {
        "id": "F5Wm98msYTVb"
      },
      "source": [
        "De acordo com os resultados, todos os modelos apresentaram uma acurácia semelhante, mas o Gradient Boosting se destaca por apresentar menor desvio padrão (Std), logo, utilizaremos ele para realizar o teste."
      ]
    },
    {
      "cell_type": "markdown",
      "metadata": {
        "id": "aK1YqwjlayQS"
      },
      "source": [
        "#***Otimizando o Modelo***"
      ]
    },
    {
      "cell_type": "markdown",
      "metadata": {
        "id": "3pWXuHydbqwY"
      },
      "source": [
        "Agora vamos tentar otimizar o modelo, mudando seus hiperparâmetros. Vamos usar o Grid Search como estratégia, que utiliza a validação cruzada para avaliar folds diferentes do conjunto de treinamento"
      ]
    },
    {
      "cell_type": "markdown",
      "metadata": {
        "id": "i8TQLjTQa4m5"
      },
      "source": []
    },
    {
      "cell_type": "code",
      "execution_count": 69,
      "metadata": {
        "colab": {
          "base_uri": "https://localhost:8080/"
        },
        "id": "xFNB9UVxZjq5",
        "outputId": "08d600f2-f4b2-44f4-dbbb-3ade2e4a11f8"
      },
      "outputs": [
        {
          "output_type": "stream",
          "name": "stdout",
          "text": [
            "Fitting 7 folds for each of 576 candidates, totalling 4032 fits\n",
            "Melhores hiperparâmetros: {'learning_rate': 0.01, 'max_depth': 6, 'min_samples_leaf': 3, 'min_samples_split': 10, 'n_estimators': 300}\n",
            "Melhor acurácia: 0.8301023379648889\n"
          ]
        }
      ],
      "source": [
        "from sklearn.model_selection import GridSearchCV\n",
        "from sklearn.ensemble import GradientBoostingClassifier\n",
        "\n",
        "# Definir o modelo\n",
        "gb_model = GradientBoostingClassifier(random_state=42)\n",
        "\n",
        "# Definir a grade de hiperparâmetros\n",
        "param_grid = {\n",
        "    'n_estimators': [50, 100, 200, 300],\n",
        "    'learning_rate': [0.01, 0.05, 0.1, 0.2],\n",
        "    'max_depth': [3, 4, 5, 6],\n",
        "    'min_samples_split': [2, 5, 10],\n",
        "    'min_samples_leaf': [1, 3, 5],\n",
        "}\n",
        "\n",
        "# Configurar o Grid Search\n",
        "grid_search = GridSearchCV(estimator=gb_model, param_grid=param_grid, cv=7, scoring='accuracy', verbose=2, n_jobs=-1)\n",
        "\n",
        "# Realizar o Grid Search\n",
        "grid_search.fit(X_train, y_train)\n",
        "\n",
        "# Melhor combinação de hiperparâmetros\n",
        "print(\"Melhores hiperparâmetros:\", grid_search.best_params_)\n",
        "print(\"Melhor acurácia:\", grid_search.best_score_)\n"
      ]
    },
    {
      "cell_type": "markdown",
      "metadata": {
        "id": "7pP06bM3kP52"
      },
      "source": [
        "Com os melhores hiperparâmetros definidos, vamos treinar novamente o modelo."
      ]
    },
    {
      "cell_type": "code",
      "execution_count": 70,
      "metadata": {
        "colab": {
          "base_uri": "https://localhost:8080/",
          "height": 115
        },
        "id": "si9n62lrmEb8",
        "outputId": "9d97e810-19fa-4715-8369-1b1eba51e7d1"
      },
      "outputs": [
        {
          "output_type": "execute_result",
          "data": {
            "text/plain": [
              "GradientBoostingClassifier(learning_rate=0.01, max_depth=6, min_samples_leaf=3,\n",
              "                           min_samples_split=10, n_estimators=300,\n",
              "                           random_state=42)"
            ],
            "text/html": [
              "<style>#sk-container-id-3 {\n",
              "  /* Definition of color scheme common for light and dark mode */\n",
              "  --sklearn-color-text: black;\n",
              "  --sklearn-color-line: gray;\n",
              "  /* Definition of color scheme for unfitted estimators */\n",
              "  --sklearn-color-unfitted-level-0: #fff5e6;\n",
              "  --sklearn-color-unfitted-level-1: #f6e4d2;\n",
              "  --sklearn-color-unfitted-level-2: #ffe0b3;\n",
              "  --sklearn-color-unfitted-level-3: chocolate;\n",
              "  /* Definition of color scheme for fitted estimators */\n",
              "  --sklearn-color-fitted-level-0: #f0f8ff;\n",
              "  --sklearn-color-fitted-level-1: #d4ebff;\n",
              "  --sklearn-color-fitted-level-2: #b3dbfd;\n",
              "  --sklearn-color-fitted-level-3: cornflowerblue;\n",
              "\n",
              "  /* Specific color for light theme */\n",
              "  --sklearn-color-text-on-default-background: var(--sg-text-color, var(--theme-code-foreground, var(--jp-content-font-color1, black)));\n",
              "  --sklearn-color-background: var(--sg-background-color, var(--theme-background, var(--jp-layout-color0, white)));\n",
              "  --sklearn-color-border-box: var(--sg-text-color, var(--theme-code-foreground, var(--jp-content-font-color1, black)));\n",
              "  --sklearn-color-icon: #696969;\n",
              "\n",
              "  @media (prefers-color-scheme: dark) {\n",
              "    /* Redefinition of color scheme for dark theme */\n",
              "    --sklearn-color-text-on-default-background: var(--sg-text-color, var(--theme-code-foreground, var(--jp-content-font-color1, white)));\n",
              "    --sklearn-color-background: var(--sg-background-color, var(--theme-background, var(--jp-layout-color0, #111)));\n",
              "    --sklearn-color-border-box: var(--sg-text-color, var(--theme-code-foreground, var(--jp-content-font-color1, white)));\n",
              "    --sklearn-color-icon: #878787;\n",
              "  }\n",
              "}\n",
              "\n",
              "#sk-container-id-3 {\n",
              "  color: var(--sklearn-color-text);\n",
              "}\n",
              "\n",
              "#sk-container-id-3 pre {\n",
              "  padding: 0;\n",
              "}\n",
              "\n",
              "#sk-container-id-3 input.sk-hidden--visually {\n",
              "  border: 0;\n",
              "  clip: rect(1px 1px 1px 1px);\n",
              "  clip: rect(1px, 1px, 1px, 1px);\n",
              "  height: 1px;\n",
              "  margin: -1px;\n",
              "  overflow: hidden;\n",
              "  padding: 0;\n",
              "  position: absolute;\n",
              "  width: 1px;\n",
              "}\n",
              "\n",
              "#sk-container-id-3 div.sk-dashed-wrapped {\n",
              "  border: 1px dashed var(--sklearn-color-line);\n",
              "  margin: 0 0.4em 0.5em 0.4em;\n",
              "  box-sizing: border-box;\n",
              "  padding-bottom: 0.4em;\n",
              "  background-color: var(--sklearn-color-background);\n",
              "}\n",
              "\n",
              "#sk-container-id-3 div.sk-container {\n",
              "  /* jupyter's `normalize.less` sets `[hidden] { display: none; }`\n",
              "     but bootstrap.min.css set `[hidden] { display: none !important; }`\n",
              "     so we also need the `!important` here to be able to override the\n",
              "     default hidden behavior on the sphinx rendered scikit-learn.org.\n",
              "     See: https://github.com/scikit-learn/scikit-learn/issues/21755 */\n",
              "  display: inline-block !important;\n",
              "  position: relative;\n",
              "}\n",
              "\n",
              "#sk-container-id-3 div.sk-text-repr-fallback {\n",
              "  display: none;\n",
              "}\n",
              "\n",
              "div.sk-parallel-item,\n",
              "div.sk-serial,\n",
              "div.sk-item {\n",
              "  /* draw centered vertical line to link estimators */\n",
              "  background-image: linear-gradient(var(--sklearn-color-text-on-default-background), var(--sklearn-color-text-on-default-background));\n",
              "  background-size: 2px 100%;\n",
              "  background-repeat: no-repeat;\n",
              "  background-position: center center;\n",
              "}\n",
              "\n",
              "/* Parallel-specific style estimator block */\n",
              "\n",
              "#sk-container-id-3 div.sk-parallel-item::after {\n",
              "  content: \"\";\n",
              "  width: 100%;\n",
              "  border-bottom: 2px solid var(--sklearn-color-text-on-default-background);\n",
              "  flex-grow: 1;\n",
              "}\n",
              "\n",
              "#sk-container-id-3 div.sk-parallel {\n",
              "  display: flex;\n",
              "  align-items: stretch;\n",
              "  justify-content: center;\n",
              "  background-color: var(--sklearn-color-background);\n",
              "  position: relative;\n",
              "}\n",
              "\n",
              "#sk-container-id-3 div.sk-parallel-item {\n",
              "  display: flex;\n",
              "  flex-direction: column;\n",
              "}\n",
              "\n",
              "#sk-container-id-3 div.sk-parallel-item:first-child::after {\n",
              "  align-self: flex-end;\n",
              "  width: 50%;\n",
              "}\n",
              "\n",
              "#sk-container-id-3 div.sk-parallel-item:last-child::after {\n",
              "  align-self: flex-start;\n",
              "  width: 50%;\n",
              "}\n",
              "\n",
              "#sk-container-id-3 div.sk-parallel-item:only-child::after {\n",
              "  width: 0;\n",
              "}\n",
              "\n",
              "/* Serial-specific style estimator block */\n",
              "\n",
              "#sk-container-id-3 div.sk-serial {\n",
              "  display: flex;\n",
              "  flex-direction: column;\n",
              "  align-items: center;\n",
              "  background-color: var(--sklearn-color-background);\n",
              "  padding-right: 1em;\n",
              "  padding-left: 1em;\n",
              "}\n",
              "\n",
              "\n",
              "/* Toggleable style: style used for estimator/Pipeline/ColumnTransformer box that is\n",
              "clickable and can be expanded/collapsed.\n",
              "- Pipeline and ColumnTransformer use this feature and define the default style\n",
              "- Estimators will overwrite some part of the style using the `sk-estimator` class\n",
              "*/\n",
              "\n",
              "/* Pipeline and ColumnTransformer style (default) */\n",
              "\n",
              "#sk-container-id-3 div.sk-toggleable {\n",
              "  /* Default theme specific background. It is overwritten whether we have a\n",
              "  specific estimator or a Pipeline/ColumnTransformer */\n",
              "  background-color: var(--sklearn-color-background);\n",
              "}\n",
              "\n",
              "/* Toggleable label */\n",
              "#sk-container-id-3 label.sk-toggleable__label {\n",
              "  cursor: pointer;\n",
              "  display: block;\n",
              "  width: 100%;\n",
              "  margin-bottom: 0;\n",
              "  padding: 0.5em;\n",
              "  box-sizing: border-box;\n",
              "  text-align: center;\n",
              "}\n",
              "\n",
              "#sk-container-id-3 label.sk-toggleable__label-arrow:before {\n",
              "  /* Arrow on the left of the label */\n",
              "  content: \"▸\";\n",
              "  float: left;\n",
              "  margin-right: 0.25em;\n",
              "  color: var(--sklearn-color-icon);\n",
              "}\n",
              "\n",
              "#sk-container-id-3 label.sk-toggleable__label-arrow:hover:before {\n",
              "  color: var(--sklearn-color-text);\n",
              "}\n",
              "\n",
              "/* Toggleable content - dropdown */\n",
              "\n",
              "#sk-container-id-3 div.sk-toggleable__content {\n",
              "  max-height: 0;\n",
              "  max-width: 0;\n",
              "  overflow: hidden;\n",
              "  text-align: left;\n",
              "  /* unfitted */\n",
              "  background-color: var(--sklearn-color-unfitted-level-0);\n",
              "}\n",
              "\n",
              "#sk-container-id-3 div.sk-toggleable__content.fitted {\n",
              "  /* fitted */\n",
              "  background-color: var(--sklearn-color-fitted-level-0);\n",
              "}\n",
              "\n",
              "#sk-container-id-3 div.sk-toggleable__content pre {\n",
              "  margin: 0.2em;\n",
              "  border-radius: 0.25em;\n",
              "  color: var(--sklearn-color-text);\n",
              "  /* unfitted */\n",
              "  background-color: var(--sklearn-color-unfitted-level-0);\n",
              "}\n",
              "\n",
              "#sk-container-id-3 div.sk-toggleable__content.fitted pre {\n",
              "  /* unfitted */\n",
              "  background-color: var(--sklearn-color-fitted-level-0);\n",
              "}\n",
              "\n",
              "#sk-container-id-3 input.sk-toggleable__control:checked~div.sk-toggleable__content {\n",
              "  /* Expand drop-down */\n",
              "  max-height: 200px;\n",
              "  max-width: 100%;\n",
              "  overflow: auto;\n",
              "}\n",
              "\n",
              "#sk-container-id-3 input.sk-toggleable__control:checked~label.sk-toggleable__label-arrow:before {\n",
              "  content: \"▾\";\n",
              "}\n",
              "\n",
              "/* Pipeline/ColumnTransformer-specific style */\n",
              "\n",
              "#sk-container-id-3 div.sk-label input.sk-toggleable__control:checked~label.sk-toggleable__label {\n",
              "  color: var(--sklearn-color-text);\n",
              "  background-color: var(--sklearn-color-unfitted-level-2);\n",
              "}\n",
              "\n",
              "#sk-container-id-3 div.sk-label.fitted input.sk-toggleable__control:checked~label.sk-toggleable__label {\n",
              "  background-color: var(--sklearn-color-fitted-level-2);\n",
              "}\n",
              "\n",
              "/* Estimator-specific style */\n",
              "\n",
              "/* Colorize estimator box */\n",
              "#sk-container-id-3 div.sk-estimator input.sk-toggleable__control:checked~label.sk-toggleable__label {\n",
              "  /* unfitted */\n",
              "  background-color: var(--sklearn-color-unfitted-level-2);\n",
              "}\n",
              "\n",
              "#sk-container-id-3 div.sk-estimator.fitted input.sk-toggleable__control:checked~label.sk-toggleable__label {\n",
              "  /* fitted */\n",
              "  background-color: var(--sklearn-color-fitted-level-2);\n",
              "}\n",
              "\n",
              "#sk-container-id-3 div.sk-label label.sk-toggleable__label,\n",
              "#sk-container-id-3 div.sk-label label {\n",
              "  /* The background is the default theme color */\n",
              "  color: var(--sklearn-color-text-on-default-background);\n",
              "}\n",
              "\n",
              "/* On hover, darken the color of the background */\n",
              "#sk-container-id-3 div.sk-label:hover label.sk-toggleable__label {\n",
              "  color: var(--sklearn-color-text);\n",
              "  background-color: var(--sklearn-color-unfitted-level-2);\n",
              "}\n",
              "\n",
              "/* Label box, darken color on hover, fitted */\n",
              "#sk-container-id-3 div.sk-label.fitted:hover label.sk-toggleable__label.fitted {\n",
              "  color: var(--sklearn-color-text);\n",
              "  background-color: var(--sklearn-color-fitted-level-2);\n",
              "}\n",
              "\n",
              "/* Estimator label */\n",
              "\n",
              "#sk-container-id-3 div.sk-label label {\n",
              "  font-family: monospace;\n",
              "  font-weight: bold;\n",
              "  display: inline-block;\n",
              "  line-height: 1.2em;\n",
              "}\n",
              "\n",
              "#sk-container-id-3 div.sk-label-container {\n",
              "  text-align: center;\n",
              "}\n",
              "\n",
              "/* Estimator-specific */\n",
              "#sk-container-id-3 div.sk-estimator {\n",
              "  font-family: monospace;\n",
              "  border: 1px dotted var(--sklearn-color-border-box);\n",
              "  border-radius: 0.25em;\n",
              "  box-sizing: border-box;\n",
              "  margin-bottom: 0.5em;\n",
              "  /* unfitted */\n",
              "  background-color: var(--sklearn-color-unfitted-level-0);\n",
              "}\n",
              "\n",
              "#sk-container-id-3 div.sk-estimator.fitted {\n",
              "  /* fitted */\n",
              "  background-color: var(--sklearn-color-fitted-level-0);\n",
              "}\n",
              "\n",
              "/* on hover */\n",
              "#sk-container-id-3 div.sk-estimator:hover {\n",
              "  /* unfitted */\n",
              "  background-color: var(--sklearn-color-unfitted-level-2);\n",
              "}\n",
              "\n",
              "#sk-container-id-3 div.sk-estimator.fitted:hover {\n",
              "  /* fitted */\n",
              "  background-color: var(--sklearn-color-fitted-level-2);\n",
              "}\n",
              "\n",
              "/* Specification for estimator info (e.g. \"i\" and \"?\") */\n",
              "\n",
              "/* Common style for \"i\" and \"?\" */\n",
              "\n",
              ".sk-estimator-doc-link,\n",
              "a:link.sk-estimator-doc-link,\n",
              "a:visited.sk-estimator-doc-link {\n",
              "  float: right;\n",
              "  font-size: smaller;\n",
              "  line-height: 1em;\n",
              "  font-family: monospace;\n",
              "  background-color: var(--sklearn-color-background);\n",
              "  border-radius: 1em;\n",
              "  height: 1em;\n",
              "  width: 1em;\n",
              "  text-decoration: none !important;\n",
              "  margin-left: 1ex;\n",
              "  /* unfitted */\n",
              "  border: var(--sklearn-color-unfitted-level-1) 1pt solid;\n",
              "  color: var(--sklearn-color-unfitted-level-1);\n",
              "}\n",
              "\n",
              ".sk-estimator-doc-link.fitted,\n",
              "a:link.sk-estimator-doc-link.fitted,\n",
              "a:visited.sk-estimator-doc-link.fitted {\n",
              "  /* fitted */\n",
              "  border: var(--sklearn-color-fitted-level-1) 1pt solid;\n",
              "  color: var(--sklearn-color-fitted-level-1);\n",
              "}\n",
              "\n",
              "/* On hover */\n",
              "div.sk-estimator:hover .sk-estimator-doc-link:hover,\n",
              ".sk-estimator-doc-link:hover,\n",
              "div.sk-label-container:hover .sk-estimator-doc-link:hover,\n",
              ".sk-estimator-doc-link:hover {\n",
              "  /* unfitted */\n",
              "  background-color: var(--sklearn-color-unfitted-level-3);\n",
              "  color: var(--sklearn-color-background);\n",
              "  text-decoration: none;\n",
              "}\n",
              "\n",
              "div.sk-estimator.fitted:hover .sk-estimator-doc-link.fitted:hover,\n",
              ".sk-estimator-doc-link.fitted:hover,\n",
              "div.sk-label-container:hover .sk-estimator-doc-link.fitted:hover,\n",
              ".sk-estimator-doc-link.fitted:hover {\n",
              "  /* fitted */\n",
              "  background-color: var(--sklearn-color-fitted-level-3);\n",
              "  color: var(--sklearn-color-background);\n",
              "  text-decoration: none;\n",
              "}\n",
              "\n",
              "/* Span, style for the box shown on hovering the info icon */\n",
              ".sk-estimator-doc-link span {\n",
              "  display: none;\n",
              "  z-index: 9999;\n",
              "  position: relative;\n",
              "  font-weight: normal;\n",
              "  right: .2ex;\n",
              "  padding: .5ex;\n",
              "  margin: .5ex;\n",
              "  width: min-content;\n",
              "  min-width: 20ex;\n",
              "  max-width: 50ex;\n",
              "  color: var(--sklearn-color-text);\n",
              "  box-shadow: 2pt 2pt 4pt #999;\n",
              "  /* unfitted */\n",
              "  background: var(--sklearn-color-unfitted-level-0);\n",
              "  border: .5pt solid var(--sklearn-color-unfitted-level-3);\n",
              "}\n",
              "\n",
              ".sk-estimator-doc-link.fitted span {\n",
              "  /* fitted */\n",
              "  background: var(--sklearn-color-fitted-level-0);\n",
              "  border: var(--sklearn-color-fitted-level-3);\n",
              "}\n",
              "\n",
              ".sk-estimator-doc-link:hover span {\n",
              "  display: block;\n",
              "}\n",
              "\n",
              "/* \"?\"-specific style due to the `<a>` HTML tag */\n",
              "\n",
              "#sk-container-id-3 a.estimator_doc_link {\n",
              "  float: right;\n",
              "  font-size: 1rem;\n",
              "  line-height: 1em;\n",
              "  font-family: monospace;\n",
              "  background-color: var(--sklearn-color-background);\n",
              "  border-radius: 1rem;\n",
              "  height: 1rem;\n",
              "  width: 1rem;\n",
              "  text-decoration: none;\n",
              "  /* unfitted */\n",
              "  color: var(--sklearn-color-unfitted-level-1);\n",
              "  border: var(--sklearn-color-unfitted-level-1) 1pt solid;\n",
              "}\n",
              "\n",
              "#sk-container-id-3 a.estimator_doc_link.fitted {\n",
              "  /* fitted */\n",
              "  border: var(--sklearn-color-fitted-level-1) 1pt solid;\n",
              "  color: var(--sklearn-color-fitted-level-1);\n",
              "}\n",
              "\n",
              "/* On hover */\n",
              "#sk-container-id-3 a.estimator_doc_link:hover {\n",
              "  /* unfitted */\n",
              "  background-color: var(--sklearn-color-unfitted-level-3);\n",
              "  color: var(--sklearn-color-background);\n",
              "  text-decoration: none;\n",
              "}\n",
              "\n",
              "#sk-container-id-3 a.estimator_doc_link.fitted:hover {\n",
              "  /* fitted */\n",
              "  background-color: var(--sklearn-color-fitted-level-3);\n",
              "}\n",
              "</style><div id=\"sk-container-id-3\" class=\"sk-top-container\"><div class=\"sk-text-repr-fallback\"><pre>GradientBoostingClassifier(learning_rate=0.01, max_depth=6, min_samples_leaf=3,\n",
              "                           min_samples_split=10, n_estimators=300,\n",
              "                           random_state=42)</pre><b>In a Jupyter environment, please rerun this cell to show the HTML representation or trust the notebook. <br />On GitHub, the HTML representation is unable to render, please try loading this page with nbviewer.org.</b></div><div class=\"sk-container\" hidden><div class=\"sk-item\"><div class=\"sk-estimator fitted sk-toggleable\"><input class=\"sk-toggleable__control sk-hidden--visually\" id=\"sk-estimator-id-3\" type=\"checkbox\" checked><label for=\"sk-estimator-id-3\" class=\"sk-toggleable__label fitted sk-toggleable__label-arrow fitted\">&nbsp;&nbsp;GradientBoostingClassifier<a class=\"sk-estimator-doc-link fitted\" rel=\"noreferrer\" target=\"_blank\" href=\"https://scikit-learn.org/1.5/modules/generated/sklearn.ensemble.GradientBoostingClassifier.html\">?<span>Documentation for GradientBoostingClassifier</span></a><span class=\"sk-estimator-doc-link fitted\">i<span>Fitted</span></span></label><div class=\"sk-toggleable__content fitted\"><pre>GradientBoostingClassifier(learning_rate=0.01, max_depth=6, min_samples_leaf=3,\n",
              "                           min_samples_split=10, n_estimators=300,\n",
              "                           random_state=42)</pre></div> </div></div></div></div>"
            ]
          },
          "metadata": {},
          "execution_count": 70
        }
      ],
      "source": [
        "# Treinar o modelo final com os melhores hiperparâmetros\n",
        "final_model = GradientBoostingClassifier(\n",
        "    learning_rate=0.01,\n",
        "    max_depth=6,\n",
        "    min_samples_leaf=3,\n",
        "    min_samples_split=10,\n",
        "    n_estimators=300,\n",
        "    random_state=42\n",
        ")\n",
        "final_model.fit(X_train, y_train)"
      ]
    },
    {
      "cell_type": "markdown",
      "source": [
        "#***Análise do Modelo***"
      ],
      "metadata": {
        "id": "Z8az3pBj9Dq8"
      }
    },
    {
      "cell_type": "markdown",
      "metadata": {
        "id": "ft9Y-qBsm2Pb"
      },
      "source": [
        "Agora vamos avaliar o modelo com os hiperparâmetros otimizados"
      ]
    },
    {
      "cell_type": "code",
      "execution_count": 71,
      "metadata": {
        "colab": {
          "base_uri": "https://localhost:8080/"
        },
        "id": "tth6gQW8nbYV",
        "outputId": "2adc4b0b-ca9e-4ca5-9cfb-9c84f6ad0b48"
      },
      "outputs": [
        {
          "output_type": "stream",
          "name": "stdout",
          "text": [
            "Acurácia no conjunto de teste: 0.81\n",
            "Relatório de Classificação:\n",
            "              precision    recall  f1-score   support\n",
            "\n",
            "           0       0.80      0.90      0.85       105\n",
            "           1       0.83      0.68      0.75        74\n",
            "\n",
            "    accuracy                           0.81       179\n",
            "   macro avg       0.82      0.79      0.80       179\n",
            "weighted avg       0.81      0.81      0.81       179\n",
            "\n",
            "Matriz de Confusão:\n",
            "[[95 10]\n",
            " [24 50]]\n"
          ]
        }
      ],
      "source": [
        "from sklearn.metrics import accuracy_score, classification_report, confusion_matrix, roc_auc_score\n",
        "\n",
        "# Prever no conjunto de teste\n",
        "y_test_pred = final_model.predict(X_test)\n",
        "\n",
        "# Avaliar o desempenho\n",
        "test_accuracy = accuracy_score(y_test, y_test_pred)\n",
        "print(f\"Acurácia no conjunto de teste: {test_accuracy:.2f}\")\n",
        "\n",
        "# Relatório de classificação\n",
        "print(\"Relatório de Classificação:\")\n",
        "print(classification_report(y_test, y_test_pred))\n",
        "\n",
        "# Matriz de confusão\n",
        "print(\"Matriz de Confusão:\")\n",
        "print(confusion_matrix(y_test, y_test_pred))"
      ]
    },
    {
      "cell_type": "code",
      "execution_count": 72,
      "metadata": {
        "colab": {
          "base_uri": "https://localhost:8080/",
          "height": 564
        },
        "id": "tmbXqCHMrZ5e",
        "outputId": "92f662b3-f63f-4f08-a558-19df77d1fae7"
      },
      "outputs": [
        {
          "output_type": "display_data",
          "data": {
            "text/plain": [
              "<Figure size 800x600 with 1 Axes>"
            ],
            "image/png": "[encoded data removed]"
          },
          "metadata": {}
        }
      ],
      "source": [
        "from sklearn.metrics import roc_curve, auc\n",
        "import matplotlib.pyplot as plt\n",
        "\n",
        "# Calcular probabilidades para a curva ROC\n",
        "y_test_proba = final_model.predict_proba(X_test)[:, 1]\n",
        "fpr, tpr, _ = roc_curve(y_test, y_test_proba)\n",
        "roc_auc = auc(fpr, tpr)\n",
        "\n",
        "# Plotar a curva ROC\n",
        "plt.figure(figsize=(8, 6))\n",
        "plt.plot(fpr, tpr, color='darkorange', lw=2, label=f\"ROC Curve (AUC = {roc_auc:.2f})\")\n",
        "plt.plot([0, 1], [0, 1], color='navy', lw=2, linestyle='--')\n",
        "plt.xlabel(\"False Positive Rate\")\n",
        "plt.ylabel(\"True Positive Rate\")\n",
        "plt.title(\"Curva ROC\")\n",
        "plt.legend(loc=\"lower right\")\n",
        "plt.show()"
      ]
    },
    {
      "cell_type": "markdown",
      "source": [
        "Continuar análise"
      ],
      "metadata": {
        "id": "AM6CiDBiC3vI"
      }
    },
    {
      "cell_type": "markdown",
      "source": [
        "#***Conclusão***"
      ],
      "metadata": {
        "id": "qjl4zJigC3bn"
      }
    },
    {
      "cell_type": "markdown",
      "source": [
        "Desenvolver conclusão"
      ],
      "metadata": {
        "id": "77Wex1FjC_3l"
      }
    }
  ],
  "metadata": {
    "colab": {
      "provenance": [],
      "collapsed_sections": [
        "kjPJ5gUZqy_e"
      ],
      "mount_file_id": "1k7B1vSqu7lpXgDKgnt34mBzxQJ9l4OYh",
      "authorship_tag": "ABX9TyODb1W93IxRE5MX3r+ex/cf",
      "include_colab_link": true
    },
    "kernelspec": {
      "display_name": "Python 3",
      "name": "python3"
    },
    "language_info": {
      "name": "python"
    }
  },
  "nbformat": 4,
  "nbformat_minor": 0
}